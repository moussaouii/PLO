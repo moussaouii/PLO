{
 "cells": [
  {
   "cell_type": "code",
   "execution_count": 1,
   "metadata": {},
   "outputs": [],
   "source": [
    "import json\n",
    "import numpy as np\n",
    "import matplotlib.pyplot as plt\n",
    "import pandas as pd\n",
    "import seaborn as sns"
   ]
  },
  {
   "cell_type": "code",
   "execution_count": 2,
   "metadata": {},
   "outputs": [
    {
     "ename": "FileNotFoundError",
     "evalue": "[Errno 2] No such file or directory: 'logs.json'",
     "output_type": "error",
     "traceback": [
      "\u001b[0;31m---------------------------------------------------------------------------\u001b[0m",
      "\u001b[0;31mFileNotFoundError\u001b[0m                         Traceback (most recent call last)",
      "\u001b[0;32m<ipython-input-2-0a603dae6faa>\u001b[0m in \u001b[0;36m<module>\u001b[0;34m\u001b[0m\n\u001b[0;32m----> 1\u001b[0;31m \u001b[0mlogs_raw\u001b[0m \u001b[0;34m=\u001b[0m \u001b[0mjson\u001b[0m\u001b[0;34m.\u001b[0m\u001b[0mload\u001b[0m\u001b[0;34m(\u001b[0m\u001b[0mopen\u001b[0m\u001b[0;34m(\u001b[0m\u001b[0;34m'logs.json'\u001b[0m\u001b[0;34m)\u001b[0m\u001b[0;34m)\u001b[0m\u001b[0;34m\u001b[0m\u001b[0;34m\u001b[0m\u001b[0m\n\u001b[0m",
      "\u001b[0;31mFileNotFoundError\u001b[0m: [Errno 2] No such file or directory: 'logs.json'"
     ]
    }
   ],
   "source": [
    "logs_raw = json.load(open('logs.json'))"
   ]
  },
  {
   "cell_type": "code",
   "execution_count": 38,
   "metadata": {},
   "outputs": [
    {
     "name": "stdout",
     "output_type": "stream",
     "text": [
      "Nombre des éléments de la liste: 240060\n"
     ]
    }
   ],
   "source": [
    "print('Nombre des éléments de la liste: ' + str(len(logs_raw)))"
   ]
  },
  {
   "cell_type": "code",
   "execution_count": 4,
   "metadata": {},
   "outputs": [
    {
     "name": "stdout",
     "output_type": "stream",
     "text": [
      "Chaque éléments de la liste est de type: <class 'dict'>, et contient les éléments suivants: \n",
      "\n",
      "['at', 'context', 'conclusion', 'diag', 'from', 'instance-id', 'instance-name', 'uid', 'user-instance', 'version']\n"
     ]
    }
   ],
   "source": [
    "print('Chaque éléments de la liste est de type: ' + str(type(logs_raw[0])) + ', et contient les éléments suivants: \\n')\n",
    "print(list(logs_raw[0].keys()))"
   ]
  },
  {
   "cell_type": "code",
   "execution_count": 5,
   "metadata": {},
   "outputs": [
    {
     "data": {
      "text/plain": [
       "{'at': '2018-07-26T10:17:36-07:00',\n",
       " 'context': {'timezone': 'UTC'},\n",
       " 'conclusion': {'_text': 'casablanca',\n",
       "  'outcomes': [{'_text': 'casablanca',\n",
       "    'confidence': None,\n",
       "    'intent-id': 'default_intent_id',\n",
       "    'intent': 'default_intent',\n",
       "    'entities': [{'wisp': '53679cd0-314c-499a-915c-d0879ffc028d',\n",
       "      'name': 'location',\n",
       "      'value': {'value': 'casablanca', 'type': 'value'},\n",
       "      'confidence': 0.93602,\n",
       "      'body': 'casablanca',\n",
       "      'start': 0,\n",
       "      'end': 10}]}]},\n",
       " 'diag': {'_text': 'casablanca',\n",
       "  'outcomes': [{'_text': 'casablanca',\n",
       "    'confidence': None,\n",
       "    'intent-id': 'default_intent_id',\n",
       "    'intent': 'default_intent',\n",
       "    'entities': {'location': [{'value': {'value': 'casablanca',\n",
       "        'type': 'value'},\n",
       "       'confidence': 0.93602,\n",
       "       'body': 'casablanca',\n",
       "       'start': 0,\n",
       "       'end': 10,\n",
       "       'entity': 'location'}]}}]},\n",
       " 'from': 'msg',\n",
       " 'instance-id': '5b5892d0-f12f-44e0-a9d3-efb5ece2f0d6',\n",
       " 'instance-name': 'flybot-refactor',\n",
       " 'uid': 'github:10999207',\n",
       " 'user-instance': 'revfyawo_ece2f0d6',\n",
       " 'version': '20160516'}"
      ]
     },
     "execution_count": 5,
     "metadata": {},
     "output_type": "execute_result"
    }
   ],
   "source": [
    "logs_raw[0]"
   ]
  },
  {
   "cell_type": "markdown",
   "metadata": {},
   "source": [
    "\n",
    "On s'intéresse à **elements['diag']['outcomes']** qui contient les textes reçus et les entités/intent extraits\n"
   ]
  },
  {
   "cell_type": "code",
   "execution_count": 6,
   "metadata": {},
   "outputs": [
    {
     "data": {
      "text/plain": [
       "[{'_text': 'casablanca',\n",
       "  'confidence': None,\n",
       "  'intent-id': 'default_intent_id',\n",
       "  'intent': 'default_intent',\n",
       "  'entities': {'location': [{'value': {'value': 'casablanca', 'type': 'value'},\n",
       "     'confidence': 0.93602,\n",
       "     'body': 'casablanca',\n",
       "     'start': 0,\n",
       "     'end': 10,\n",
       "     'entity': 'location'}]}}]"
      ]
     },
     "execution_count": 6,
     "metadata": {},
     "output_type": "execute_result"
    }
   ],
   "source": [
    "logs_raw[0]['diag']['outcomes']"
   ]
  },
  {
   "cell_type": "code",
   "execution_count": 7,
   "metadata": {},
   "outputs": [],
   "source": [
    "# all texts sent in a list\n",
    "all_texts = []\n",
    "for e in logs_raw:\n",
    "    all_texts.append(e['diag']['outcomes'][0]['_text'])    "
   ]
  },
  {
   "cell_type": "code",
   "execution_count": 8,
   "metadata": {},
   "outputs": [
    {
     "data": {
      "text/plain": [
       "240060"
      ]
     },
     "execution_count": 8,
     "metadata": {},
     "output_type": "execute_result"
    }
   ],
   "source": [
    "len(all_texts)"
   ]
  },
  {
   "cell_type": "code",
   "execution_count": 9,
   "metadata": {},
   "outputs": [],
   "source": [
    "texts_len_aux = []\n",
    "for e in all_texts:\n",
    "    texts_len_aux.append(len(e))"
   ]
  },
  {
   "cell_type": "code",
   "execution_count": 10,
   "metadata": {},
   "outputs": [
    {
     "data": {
      "text/html": [
       "<div>\n",
       "<style scoped>\n",
       "    .dataframe tbody tr th:only-of-type {\n",
       "        vertical-align: middle;\n",
       "    }\n",
       "\n",
       "    .dataframe tbody tr th {\n",
       "        vertical-align: top;\n",
       "    }\n",
       "\n",
       "    .dataframe thead th {\n",
       "        text-align: right;\n",
       "    }\n",
       "</style>\n",
       "<table border=\"1\" class=\"dataframe\">\n",
       "  <thead>\n",
       "    <tr style=\"text-align: right;\">\n",
       "      <th></th>\n",
       "      <th>text length</th>\n",
       "    </tr>\n",
       "  </thead>\n",
       "  <tbody>\n",
       "    <tr>\n",
       "      <th>count</th>\n",
       "      <td>240060.000000</td>\n",
       "    </tr>\n",
       "    <tr>\n",
       "      <th>mean</th>\n",
       "      <td>9.065305</td>\n",
       "    </tr>\n",
       "    <tr>\n",
       "      <th>std</th>\n",
       "      <td>12.267178</td>\n",
       "    </tr>\n",
       "    <tr>\n",
       "      <th>min</th>\n",
       "      <td>1.000000</td>\n",
       "    </tr>\n",
       "    <tr>\n",
       "      <th>25%</th>\n",
       "      <td>3.000000</td>\n",
       "    </tr>\n",
       "    <tr>\n",
       "      <th>50%</th>\n",
       "      <td>7.000000</td>\n",
       "    </tr>\n",
       "    <tr>\n",
       "      <th>75%</th>\n",
       "      <td>10.000000</td>\n",
       "    </tr>\n",
       "    <tr>\n",
       "      <th>max</th>\n",
       "      <td>280.000000</td>\n",
       "    </tr>\n",
       "  </tbody>\n",
       "</table>\n",
       "</div>"
      ],
      "text/plain": [
       "         text length\n",
       "count  240060.000000\n",
       "mean        9.065305\n",
       "std        12.267178\n",
       "min         1.000000\n",
       "25%         3.000000\n",
       "50%         7.000000\n",
       "75%        10.000000\n",
       "max       280.000000"
      ]
     },
     "execution_count": 10,
     "metadata": {},
     "output_type": "execute_result"
    }
   ],
   "source": [
    "df_len = pd.DataFrame(texts_len_aux, columns=['text length'])\n",
    "df_len.describe()"
   ]
  },
  {
   "cell_type": "code",
   "execution_count": 11,
   "metadata": {},
   "outputs": [
    {
     "data": {
      "image/png": "[encoded data removed]",
      "text/plain": [
       "<Figure size 1080x792 with 1 Axes>"
      ]
     },
     "metadata": {
      "needs_background": "light"
     },
     "output_type": "display_data"
    }
   ],
   "source": [
    "plt.figure(figsize=(15,11))\n",
    "sns.boxplot(texts_len_aux);"
   ]
  },
  {
   "cell_type": "code",
   "execution_count": 12,
   "metadata": {},
   "outputs": [
    {
     "data": {
      "image/png": "[encoded data removed]",
      "text/plain": [
       "<Figure size 1080x792 with 1 Axes>"
      ]
     },
     "metadata": {
      "needs_background": "light"
     },
     "output_type": "display_data"
    }
   ],
   "source": [
    "from collections import Counter\n",
    "\n",
    "counts = dict(Counter(all_texts).most_common(20))\n",
    "labels, values = zip(*counts.items())\n",
    "\n",
    "# sort your values in descending order\n",
    "indSort = np.argsort(values)[::-1]\n",
    "\n",
    "# rearrange your data\n",
    "labels = np.array(labels)[indSort]\n",
    "values = np.array(values)[indSort]\n",
    "\n",
    "indexes = np.arange(len(labels))\n",
    "\n",
    "bar_width = 0.05\n",
    "\n",
    "plt.figure(figsize=(15,11))\n",
    "plt.bar(indexes, values)\n",
    "\n",
    "# add labels\n",
    "\n",
    "plt.xticks(indexes + bar_width, labels, rotation=45)\n",
    "plt.show()"
   ]
  },
  {
   "cell_type": "code",
   "execution_count": 13,
   "metadata": {},
   "outputs": [],
   "source": [
    "df1 = pd.DataFrame(labels, columns=['most common'])\n",
    "df2 = pd.DataFrame(values, columns=['occurence'])\n",
    "df3 = pd.DataFrame(values/len(all_texts)*100, columns=['% occurence'])\n",
    "df = pd.concat([df1,df2,df3], axis=1)"
   ]
  },
  {
   "cell_type": "code",
   "execution_count": 14,
   "metadata": {},
   "outputs": [
    {
     "data": {
      "text/html": [
       "<div>\n",
       "<style scoped>\n",
       "    .dataframe tbody tr th:only-of-type {\n",
       "        vertical-align: middle;\n",
       "    }\n",
       "\n",
       "    .dataframe tbody tr th {\n",
       "        vertical-align: top;\n",
       "    }\n",
       "\n",
       "    .dataframe thead th {\n",
       "        text-align: right;\n",
       "    }\n",
       "</style>\n",
       "<table border=\"1\" class=\"dataframe\">\n",
       "  <thead>\n",
       "    <tr style=\"text-align: right;\">\n",
       "      <th></th>\n",
       "      <th>most common</th>\n",
       "      <th>occurence</th>\n",
       "      <th>% occurence</th>\n",
       "    </tr>\n",
       "  </thead>\n",
       "  <tbody>\n",
       "    <tr>\n",
       "      <th>0</th>\n",
       "      <td>2</td>\n",
       "      <td>21911</td>\n",
       "      <td>9.127302</td>\n",
       "    </tr>\n",
       "    <tr>\n",
       "      <th>1</th>\n",
       "      <td>1</td>\n",
       "      <td>9210</td>\n",
       "      <td>3.836541</td>\n",
       "    </tr>\n",
       "    <tr>\n",
       "      <th>2</th>\n",
       "      <td>Paris</td>\n",
       "      <td>7546</td>\n",
       "      <td>3.143381</td>\n",
       "    </tr>\n",
       "    <tr>\n",
       "      <th>3</th>\n",
       "      <td>4</td>\n",
       "      <td>4120</td>\n",
       "      <td>1.716238</td>\n",
       "    </tr>\n",
       "    <tr>\n",
       "      <th>4</th>\n",
       "      <td>3</td>\n",
       "      <td>3682</td>\n",
       "      <td>1.533783</td>\n",
       "    </tr>\n",
       "    <tr>\n",
       "      <th>5</th>\n",
       "      <td>Toulouse</td>\n",
       "      <td>3531</td>\n",
       "      <td>1.470882</td>\n",
       "    </tr>\n",
       "    <tr>\n",
       "      <th>6</th>\n",
       "      <td>Février</td>\n",
       "      <td>2499</td>\n",
       "      <td>1.040990</td>\n",
       "    </tr>\n",
       "    <tr>\n",
       "      <th>7</th>\n",
       "      <td>5</td>\n",
       "      <td>2366</td>\n",
       "      <td>0.985587</td>\n",
       "    </tr>\n",
       "    <tr>\n",
       "      <th>8</th>\n",
       "      <td>Janvier</td>\n",
       "      <td>2240</td>\n",
       "      <td>0.933100</td>\n",
       "    </tr>\n",
       "    <tr>\n",
       "      <th>9</th>\n",
       "      <td>Oui</td>\n",
       "      <td>2087</td>\n",
       "      <td>0.869366</td>\n",
       "    </tr>\n",
       "    <tr>\n",
       "      <th>10</th>\n",
       "      <td>7</td>\n",
       "      <td>2042</td>\n",
       "      <td>0.850621</td>\n",
       "    </tr>\n",
       "    <tr>\n",
       "      <th>11</th>\n",
       "      <td>Décembre</td>\n",
       "      <td>1962</td>\n",
       "      <td>0.817296</td>\n",
       "    </tr>\n",
       "    <tr>\n",
       "      <th>12</th>\n",
       "      <td>Avril</td>\n",
       "      <td>1950</td>\n",
       "      <td>0.812297</td>\n",
       "    </tr>\n",
       "    <tr>\n",
       "      <th>13</th>\n",
       "      <td>Mars</td>\n",
       "      <td>1897</td>\n",
       "      <td>0.790219</td>\n",
       "    </tr>\n",
       "    <tr>\n",
       "      <th>14</th>\n",
       "      <td>Juillet</td>\n",
       "      <td>1811</td>\n",
       "      <td>0.754395</td>\n",
       "    </tr>\n",
       "    <tr>\n",
       "      <th>15</th>\n",
       "      <td>Lyon</td>\n",
       "      <td>1680</td>\n",
       "      <td>0.699825</td>\n",
       "    </tr>\n",
       "    <tr>\n",
       "      <th>16</th>\n",
       "      <td>Ok</td>\n",
       "      <td>1658</td>\n",
       "      <td>0.690661</td>\n",
       "    </tr>\n",
       "    <tr>\n",
       "      <th>17</th>\n",
       "      <td>Mai</td>\n",
       "      <td>1485</td>\n",
       "      <td>0.618595</td>\n",
       "    </tr>\n",
       "    <tr>\n",
       "      <th>18</th>\n",
       "      <td>Bordeaux</td>\n",
       "      <td>1449</td>\n",
       "      <td>0.603599</td>\n",
       "    </tr>\n",
       "    <tr>\n",
       "      <th>19</th>\n",
       "      <td>undefined</td>\n",
       "      <td>1419</td>\n",
       "      <td>0.591102</td>\n",
       "    </tr>\n",
       "  </tbody>\n",
       "</table>\n",
       "</div>"
      ],
      "text/plain": [
       "   most common  occurence  % occurence\n",
       "0            2      21911     9.127302\n",
       "1            1       9210     3.836541\n",
       "2        Paris       7546     3.143381\n",
       "3            4       4120     1.716238\n",
       "4            3       3682     1.533783\n",
       "5     Toulouse       3531     1.470882\n",
       "6      Février       2499     1.040990\n",
       "7            5       2366     0.985587\n",
       "8      Janvier       2240     0.933100\n",
       "9          Oui       2087     0.869366\n",
       "10           7       2042     0.850621\n",
       "11    Décembre       1962     0.817296\n",
       "12       Avril       1950     0.812297\n",
       "13        Mars       1897     0.790219\n",
       "14     Juillet       1811     0.754395\n",
       "15        Lyon       1680     0.699825\n",
       "16          Ok       1658     0.690661\n",
       "17         Mai       1485     0.618595\n",
       "18    Bordeaux       1449     0.603599\n",
       "19   undefined       1419     0.591102"
      ]
     },
     "execution_count": 14,
     "metadata": {},
     "output_type": "execute_result"
    }
   ],
   "source": [
    "df"
   ]
  },
  {
   "cell_type": "code",
   "execution_count": 15,
   "metadata": {},
   "outputs": [
    {
     "name": "stdout",
     "output_type": "stream",
     "text": [
      "Nombre de messages dont la taille est supérieure à 50 caractères: 3771\n"
     ]
    }
   ],
   "source": [
    "# Long texts (> 70 characters only) \n",
    "\n",
    "long_texts = []\n",
    "for e in logs_raw:\n",
    "    if len(e['diag']['outcomes'][0]['_text'])>50:\n",
    "        long_texts.append(e['diag']['outcomes'])\n",
    "        \n",
    "print(\"Nombre de messages dont la taille est supérieure à 50 caractères: \" + str(len(long_texts)))"
   ]
  },
  {
   "cell_type": "code",
   "execution_count": 16,
   "metadata": {},
   "outputs": [],
   "source": [
    "long_texts = [e for elm in long_texts for e in elm]"
   ]
  },
  {
   "cell_type": "code",
   "execution_count": 17,
   "metadata": {},
   "outputs": [
    {
     "name": "stdout",
     "output_type": "stream",
     "text": [
      "error in index 1834\n",
      "error in index 2708\n"
     ]
    }
   ],
   "source": [
    "indexes = []\n",
    "entities_value = []\n",
    "entities_body = []\n",
    "entities_confidence = []\n",
    "\n",
    "#long_texts.remove(long_texts[1834])\n",
    "#long_texts.remove(long_texts[2707])\n",
    "\n",
    "\n",
    "\n",
    "for e in long_texts:\n",
    "    if e['entities'] != []:\n",
    "        for ent in e['entities'].keys():\n",
    "            try:\n",
    "                indexes.append(long_texts.index(e))\n",
    "                entities_value.append(ent)\n",
    "                entities_body.append(e['entities'][ent][0]['body'])\n",
    "                entities_confidence.append(e['entities'][ent][0]['confidence'])\n",
    "            except:\n",
    "                print('error in index ' + str(long_texts.index(e)))\n",
    "\n",
    "\n"
   ]
  },
  {
   "cell_type": "code",
   "execution_count": 18,
   "metadata": {},
   "outputs": [],
   "source": [
    "df_ind = pd.DataFrame(indexes, columns=['msg index'])\n",
    "df_val = pd.DataFrame(entities_value, columns=['entity value'])\n",
    "df_body = pd.DataFrame(entities_body, columns=['entity body'])\n",
    "df_conf = pd.DataFrame(entities_confidence, columns=['confidence'])\n",
    "df_all = pd.concat([df_ind,df_body,df_val,df_conf], axis=1)"
   ]
  },
  {
   "cell_type": "code",
   "execution_count": 19,
   "metadata": {
    "scrolled": true
   },
   "outputs": [
    {
     "data": {
      "text/html": [
       "<div>\n",
       "<style scoped>\n",
       "    .dataframe tbody tr th:only-of-type {\n",
       "        vertical-align: middle;\n",
       "    }\n",
       "\n",
       "    .dataframe tbody tr th {\n",
       "        vertical-align: top;\n",
       "    }\n",
       "\n",
       "    .dataframe thead th {\n",
       "        text-align: right;\n",
       "    }\n",
       "</style>\n",
       "<table border=\"1\" class=\"dataframe\">\n",
       "  <thead>\n",
       "    <tr style=\"text-align: right;\">\n",
       "      <th></th>\n",
       "      <th>msg index</th>\n",
       "      <th>entity body</th>\n",
       "      <th>entity value</th>\n",
       "      <th>confidence</th>\n",
       "    </tr>\n",
       "  </thead>\n",
       "  <tbody>\n",
       "    <tr>\n",
       "      <th>0</th>\n",
       "      <td>0</td>\n",
       "      <td>aller simple</td>\n",
       "      <td>search_type</td>\n",
       "      <td>0.960731</td>\n",
       "    </tr>\n",
       "    <tr>\n",
       "      <th>1</th>\n",
       "      <td>0</td>\n",
       "      <td>toulouse</td>\n",
       "      <td>origin</td>\n",
       "      <td>0.969255</td>\n",
       "    </tr>\n",
       "    <tr>\n",
       "      <th>2</th>\n",
       "      <td>0</td>\n",
       "      <td>1</td>\n",
       "      <td>passenger</td>\n",
       "      <td>0.963311</td>\n",
       "    </tr>\n",
       "    <tr>\n",
       "      <th>3</th>\n",
       "      <td>0</td>\n",
       "      <td>demain</td>\n",
       "      <td>datetime</td>\n",
       "      <td>0.961905</td>\n",
       "    </tr>\n",
       "    <tr>\n",
       "      <th>4</th>\n",
       "      <td>1</td>\n",
       "      <td>toulouse</td>\n",
       "      <td>origin</td>\n",
       "      <td>0.966155</td>\n",
       "    </tr>\n",
       "    <tr>\n",
       "      <th>5</th>\n",
       "      <td>1</td>\n",
       "      <td>1</td>\n",
       "      <td>passenger</td>\n",
       "      <td>0.965268</td>\n",
       "    </tr>\n",
       "    <tr>\n",
       "      <th>6</th>\n",
       "      <td>1</td>\n",
       "      <td>demain</td>\n",
       "      <td>datetime</td>\n",
       "      <td>0.921030</td>\n",
       "    </tr>\n",
       "    <tr>\n",
       "      <th>7</th>\n",
       "      <td>2</td>\n",
       "      <td>demain</td>\n",
       "      <td>departure_date</td>\n",
       "      <td>0.814150</td>\n",
       "    </tr>\n",
       "    <tr>\n",
       "      <th>8</th>\n",
       "      <td>2</td>\n",
       "      <td>10h</td>\n",
       "      <td>datetime</td>\n",
       "      <td>0.964115</td>\n",
       "    </tr>\n",
       "    <tr>\n",
       "      <th>9</th>\n",
       "      <td>2</td>\n",
       "      <td>dimanche soir</td>\n",
       "      <td>return_date</td>\n",
       "      <td>0.726135</td>\n",
       "    </tr>\n",
       "  </tbody>\n",
       "</table>\n",
       "</div>"
      ],
      "text/plain": [
       "   msg index    entity body    entity value  confidence\n",
       "0          0   aller simple     search_type    0.960731\n",
       "1          0       toulouse          origin    0.969255\n",
       "2          0              1       passenger    0.963311\n",
       "3          0         demain        datetime    0.961905\n",
       "4          1       toulouse          origin    0.966155\n",
       "5          1              1       passenger    0.965268\n",
       "6          1         demain        datetime    0.921030\n",
       "7          2         demain  departure_date    0.814150\n",
       "8          2            10h        datetime    0.964115\n",
       "9          2  dimanche soir     return_date    0.726135"
      ]
     },
     "execution_count": 19,
     "metadata": {},
     "output_type": "execute_result"
    }
   ],
   "source": [
    "df_all.head(10)"
   ]
  },
  {
   "cell_type": "code",
   "execution_count": 20,
   "metadata": {},
   "outputs": [
    {
     "data": {
      "text/plain": [
       "{'_text': 'Partir de Toulouse le 13 octobre pour le Japon et revenir le 19 octobre',\n",
       " 'confidence': None,\n",
       " 'intent-id': 'default_intent_id',\n",
       " 'intent': 'default_intent',\n",
       " 'entities': {'origin': [{'value': {'value': 'Toulouse', 'type': 'value'},\n",
       "    'confidence': 0.99388533901262,\n",
       "    'role': 'origin',\n",
       "    'body': 'Toulouse',\n",
       "    'start': 10,\n",
       "    'end': 18,\n",
       "    'entity': 'location'}],\n",
       "  'departure_date': [{'value': {'values': [{'value': '2018-10-13T00:00:00.000+00:00',\n",
       "       'grain': 'day',\n",
       "       'type': 'value'},\n",
       "      {'value': '2019-10-13T00:00:00.000+00:00',\n",
       "       'grain': 'day',\n",
       "       'type': 'value'},\n",
       "      {'value': '2020-10-13T00:00:00.000+00:00',\n",
       "       'grain': 'day',\n",
       "       'type': 'value'}],\n",
       "     'value': '2018-10-13T00:00:00.000+00:00',\n",
       "     'grain': 'day',\n",
       "     'type': 'value'},\n",
       "    'confidence': 0.98564546463386,\n",
       "    'role': 'departure_date',\n",
       "    'body': 'le 13 octobre',\n",
       "    'start': 19,\n",
       "    'end': 32,\n",
       "    'entity': 'datetime'}],\n",
       "  'return_date': [{'value': {'values': [{'value': '2018-10-19T00:00:00.000+00:00',\n",
       "       'grain': 'day',\n",
       "       'type': 'value'},\n",
       "      {'value': '2019-10-19T00:00:00.000+00:00',\n",
       "       'grain': 'day',\n",
       "       'type': 'value'},\n",
       "      {'value': '2020-10-19T00:00:00.000+00:00',\n",
       "       'grain': 'day',\n",
       "       'type': 'value'}],\n",
       "     'value': '2018-10-19T00:00:00.000+00:00',\n",
       "     'grain': 'day',\n",
       "     'type': 'value'},\n",
       "    'confidence': 0.76607882189029,\n",
       "    'role': 'return_date',\n",
       "    'body': 'le 19 octobre',\n",
       "    'start': 58,\n",
       "    'end': 71,\n",
       "    'entity': 'datetime'}]}}"
      ]
     },
     "execution_count": 20,
     "metadata": {},
     "output_type": "execute_result"
    }
   ],
   "source": [
    "# To check the message corresponding to msg_index: change value of msg_index and run this cell\n",
    "msg_index = 100\n",
    "long_texts[msg_index]"
   ]
  },
  {
   "cell_type": "code",
   "execution_count": 21,
   "metadata": {},
   "outputs": [
    {
     "data": {
      "image/png": "[encoded data removed]",
      "text/plain": [
       "<Figure size 1080x792 with 1 Axes>"
      ]
     },
     "metadata": {
      "needs_background": "light"
     },
     "output_type": "display_data"
    }
   ],
   "source": [
    "counts2 = dict(Counter(entities_value).most_common())\n",
    "labels2, values2 = zip(*counts2.items())\n",
    "\n",
    "# sort your values in descending order\n",
    "indSort2 = np.argsort(values2)[::-1]\n",
    "\n",
    "# rearrange your data\n",
    "labels2 = np.array(labels2)[indSort2]\n",
    "values2 = np.array(values2)[indSort2]\n",
    "\n",
    "indexes2 = np.arange(len(labels2))\n",
    "\n",
    "bar_width = 0.05\n",
    "\n",
    "plt.figure(figsize=(15,11))\n",
    "plt.bar(indexes2, values2)\n",
    "\n",
    "# add labels\n",
    "\n",
    "plt.xticks(indexes2 + bar_width, labels2, rotation=45)\n",
    "plt.show()"
   ]
  },
  {
   "cell_type": "code",
   "execution_count": 22,
   "metadata": {},
   "outputs": [],
   "source": [
    "df11 = pd.DataFrame(labels2, columns=['most common'])\n",
    "df22 = pd.DataFrame(values2, columns=['occurence'])\n",
    "df33 = pd.DataFrame(values2/(9220)*100, columns=['% occurence'])\n",
    "dff = pd.concat([df11,df22,df33], axis=1)"
   ]
  },
  {
   "cell_type": "code",
   "execution_count": 23,
   "metadata": {},
   "outputs": [
    {
     "data": {
      "text/html": [
       "<div>\n",
       "<style scoped>\n",
       "    .dataframe tbody tr th:only-of-type {\n",
       "        vertical-align: middle;\n",
       "    }\n",
       "\n",
       "    .dataframe tbody tr th {\n",
       "        vertical-align: top;\n",
       "    }\n",
       "\n",
       "    .dataframe thead th {\n",
       "        text-align: right;\n",
       "    }\n",
       "</style>\n",
       "<table border=\"1\" class=\"dataframe\">\n",
       "  <thead>\n",
       "    <tr style=\"text-align: right;\">\n",
       "      <th></th>\n",
       "      <th>most common</th>\n",
       "      <th>occurence</th>\n",
       "      <th>% occurence</th>\n",
       "    </tr>\n",
       "  </thead>\n",
       "  <tbody>\n",
       "    <tr>\n",
       "      <th>0</th>\n",
       "      <td>datetime</td>\n",
       "      <td>1570</td>\n",
       "      <td>17.028200</td>\n",
       "    </tr>\n",
       "    <tr>\n",
       "      <th>1</th>\n",
       "      <td>origin</td>\n",
       "      <td>1323</td>\n",
       "      <td>14.349241</td>\n",
       "    </tr>\n",
       "    <tr>\n",
       "      <th>2</th>\n",
       "      <td>number</td>\n",
       "      <td>1311</td>\n",
       "      <td>14.219089</td>\n",
       "    </tr>\n",
       "    <tr>\n",
       "      <th>3</th>\n",
       "      <td>destination</td>\n",
       "      <td>1165</td>\n",
       "      <td>12.635575</td>\n",
       "    </tr>\n",
       "    <tr>\n",
       "      <th>4</th>\n",
       "      <td>location</td>\n",
       "      <td>1002</td>\n",
       "      <td>10.867679</td>\n",
       "    </tr>\n",
       "    <tr>\n",
       "      <th>5</th>\n",
       "      <td>passenger</td>\n",
       "      <td>912</td>\n",
       "      <td>9.891540</td>\n",
       "    </tr>\n",
       "    <tr>\n",
       "      <th>6</th>\n",
       "      <td>search_type</td>\n",
       "      <td>543</td>\n",
       "      <td>5.889371</td>\n",
       "    </tr>\n",
       "    <tr>\n",
       "      <th>7</th>\n",
       "      <td>intent</td>\n",
       "      <td>483</td>\n",
       "      <td>5.238612</td>\n",
       "    </tr>\n",
       "    <tr>\n",
       "      <th>8</th>\n",
       "      <td>departure_date</td>\n",
       "      <td>366</td>\n",
       "      <td>3.969631</td>\n",
       "    </tr>\n",
       "    <tr>\n",
       "      <th>9</th>\n",
       "      <td>discover_category</td>\n",
       "      <td>292</td>\n",
       "      <td>3.167028</td>\n",
       "    </tr>\n",
       "    <tr>\n",
       "      <th>10</th>\n",
       "      <td>flexibility</td>\n",
       "      <td>126</td>\n",
       "      <td>1.366594</td>\n",
       "    </tr>\n",
       "    <tr>\n",
       "      <th>11</th>\n",
       "      <td>action</td>\n",
       "      <td>64</td>\n",
       "      <td>0.694143</td>\n",
       "    </tr>\n",
       "    <tr>\n",
       "      <th>12</th>\n",
       "      <td>return_date</td>\n",
       "      <td>60</td>\n",
       "      <td>0.650759</td>\n",
       "    </tr>\n",
       "    <tr>\n",
       "      <th>13</th>\n",
       "      <td>max_price</td>\n",
       "      <td>6</td>\n",
       "      <td>0.065076</td>\n",
       "    </tr>\n",
       "  </tbody>\n",
       "</table>\n",
       "</div>"
      ],
      "text/plain": [
       "          most common  occurence  % occurence\n",
       "0            datetime       1570    17.028200\n",
       "1              origin       1323    14.349241\n",
       "2              number       1311    14.219089\n",
       "3         destination       1165    12.635575\n",
       "4            location       1002    10.867679\n",
       "5           passenger        912     9.891540\n",
       "6         search_type        543     5.889371\n",
       "7              intent        483     5.238612\n",
       "8      departure_date        366     3.969631\n",
       "9   discover_category        292     3.167028\n",
       "10        flexibility        126     1.366594\n",
       "11             action         64     0.694143\n",
       "12        return_date         60     0.650759\n",
       "13          max_price          6     0.065076"
      ]
     },
     "execution_count": 23,
     "metadata": {},
     "output_type": "execute_result"
    }
   ],
   "source": [
    "dff"
   ]
  },
  {
   "cell_type": "code",
   "execution_count": 24,
   "metadata": {},
   "outputs": [
    {
     "data": {
      "text/plain": [
       "count    9221.000000\n",
       "mean        0.914804\n",
       "std         0.145546\n",
       "min         0.161667\n",
       "25%         0.906270\n",
       "50%         0.987352\n",
       "75%         1.000000\n",
       "max         1.000000\n",
       "Name: confidence, dtype: float64"
      ]
     },
     "execution_count": 24,
     "metadata": {},
     "output_type": "execute_result"
    }
   ],
   "source": [
    "df_all['confidence'].describe()"
   ]
  },
  {
   "cell_type": "code",
   "execution_count": 25,
   "metadata": {},
   "outputs": [
    {
     "data": {
      "image/png": "[encoded data removed]",
      "text/plain": [
       "<Figure size 432x288 with 1 Axes>"
      ]
     },
     "metadata": {
      "needs_background": "light"
     },
     "output_type": "display_data"
    }
   ],
   "source": [
    "sns.boxplot(df_all['confidence']).set_title('overall confidence')\n",
    "plt.show()"
   ]
  },
  {
   "cell_type": "code",
   "execution_count": 26,
   "metadata": {},
   "outputs": [
    {
     "data": {
      "image/png": "[encoded data removed]",
      "text/plain": [
       "<Figure size 432x288 with 1 Axes>"
      ]
     },
     "metadata": {
      "needs_background": "light"
     },
     "output_type": "display_data"
    }
   ],
   "source": [
    "sns.boxplot(df_all[df_all['entity value']=='search_type']['confidence']).set_title('search type confidence')\n",
    "plt.show()"
   ]
  },
  {
   "cell_type": "code",
   "execution_count": 27,
   "metadata": {},
   "outputs": [
    {
     "data": {
      "image/png": "[encoded data removed]",
      "text/plain": [
       "<Figure size 432x288 with 1 Axes>"
      ]
     },
     "metadata": {
      "needs_background": "light"
     },
     "output_type": "display_data"
    }
   ],
   "source": [
    "sns.boxplot(df_all[df_all['entity value']=='passenger']['confidence']).set_title('passenger confidence')\n",
    "plt.show()"
   ]
  },
  {
   "cell_type": "code",
   "execution_count": 28,
   "metadata": {},
   "outputs": [
    {
     "data": {
      "image/png": "[encoded data removed]",
      "text/plain": [
       "<Figure size 432x288 with 1 Axes>"
      ]
     },
     "metadata": {
      "needs_background": "light"
     },
     "output_type": "display_data"
    }
   ],
   "source": [
    "sns.boxplot(df_all[df_all['entity value']=='flexibility']['confidence']).set_title('flexibility confidence')\n",
    "plt.show()"
   ]
  },
  {
   "cell_type": "code",
   "execution_count": 29,
   "metadata": {},
   "outputs": [
    {
     "data": {
      "image/png": "[encoded data removed]",
      "text/plain": [
       "<Figure size 432x288 with 1 Axes>"
      ]
     },
     "metadata": {
      "needs_background": "light"
     },
     "output_type": "display_data"
    }
   ],
   "source": [
    "sns.boxplot(df_all[df_all['entity value']=='destination']['confidence']).set_title('destination confidence')\n",
    "plt.show()"
   ]
  },
  {
   "cell_type": "code",
   "execution_count": 30,
   "metadata": {},
   "outputs": [
    {
     "data": {
      "image/png": "[encoded data removed]",
      "text/plain": [
       "<Figure size 432x288 with 1 Axes>"
      ]
     },
     "metadata": {
      "needs_background": "light"
     },
     "output_type": "display_data"
    }
   ],
   "source": [
    "sns.boxplot(df_all[df_all['entity value']=='datetime']['confidence']).set_title('datetime confidence')\n",
    "plt.show()"
   ]
  },
  {
   "cell_type": "code",
   "execution_count": 31,
   "metadata": {
    "scrolled": true
   },
   "outputs": [
    {
     "data": {
      "image/png": "[encoded data removed]",
      "text/plain": [
       "<Figure size 432x288 with 1 Axes>"
      ]
     },
     "metadata": {
      "needs_background": "light"
     },
     "output_type": "display_data"
    }
   ],
   "source": [
    "sns.boxplot(df_all[df_all['entity value']=='origin']['confidence']).set_title('origin confidence')\n",
    "plt.show()"
   ]
  },
  {
   "cell_type": "code",
   "execution_count": 39,
   "metadata": {},
   "outputs": [],
   "source": [
    "with open('./long_texts.json', 'w', encoding = 'utf-8') as outfile:  \n",
    "    json.dump(long_texts, outfile, indent = 2, ensure_ascii=False)"
   ]
  },
  {
   "cell_type": "code",
   "execution_count": 52,
   "metadata": {},
   "outputs": [
    {
     "name": "stdout",
     "output_type": "stream",
     "text": [
      "{'text': 'aller simple depuis toulouse pour 1 personne demain', 'intent': 'flight_search', 'entities': [{'start': 0, 'end': 12, 'value': 'aller simple', 'entity': 'one_way'}, {'start': 20, 'end': 28, 'value': 'toulouse', 'entity': 'origin'}, {'start': 34, 'end': 35, 'value': '1', 'entity': 'nb_passengers'}]}\n"
     ]
    }
   ],
   "source": [
    "with open('./long_texts.json', encoding = 'utf-8') as json_file:  \n",
    "    data = json.load(json_file)\n",
    "\n",
    "# writing a json file\n",
    "j = 0\n",
    "transformed = {}\n",
    "transformed['common_examples'] = []\n",
    "for p in data:\n",
    "    entites = {}\n",
    "    entites['entities'] = []\n",
    "    for elt in p['entities']:\n",
    "        #print(p['entities'][elt])\n",
    "        #print('********************')\n",
    "        #verifier si les parties de elt existent / bon format avant de lancer la transfo #Prague\n",
    "        if (\"start\" in p['entities'][elt][0]) and ('value' in p['entities'][elt][0][\"value\"]):\n",
    "            \n",
    "            # destination n' origin\n",
    "            if (\"role\" in p['entities'][elt][0]) and(p['entities'][elt][0][\"entity\"] == \"location\"):\n",
    "                entites['entities'].append({\n",
    "                    \"start\": p['entities'][elt][0]['start'],\n",
    "                    \"end\": p['entities'][elt][0]['end'],\n",
    "                    \"value\": str(p['entities'][elt][0][\"value\"][\"value\"]),\n",
    "                    \"entity\": p['entities'][elt][0]['role']\n",
    "                    })\n",
    "                \n",
    "            # get rid of datetime\n",
    "            ##if (p['entities'][elt][0][\"entity\"] == \"datetime\"):\n",
    "            ##    print(' ')\n",
    "                \n",
    "            # get rid of number\n",
    "            ##if (p['entities'][elt][0][\"entity\"] == \"number\"):\n",
    "            ##    print(' ')\n",
    "            \n",
    "            # nb_passengers\n",
    "            if (elt == 'passenger'):\n",
    "                entites['entities'].append({\n",
    "                    \"start\": p['entities'][elt][0]['start'],\n",
    "                    \"end\": p['entities'][elt][0]['end'],\n",
    "                    \"value\": str(p['entities'][elt][0][\"value\"][\"value\"]),\n",
    "                    \"entity\": 'nb_passengers'\n",
    "                    })\n",
    "            \n",
    "            # flexibility\n",
    "            if (elt == \"flexibility\"):\n",
    "                entites['entities'].append({\n",
    "                    \"start\": p['entities'][elt][0]['start'],\n",
    "                    \"end\": p['entities'][elt][0]['end'],\n",
    "                    \"value\": str(p['entities'][elt][0][\"value\"][\"value\"]),\n",
    "                    \"entity\": 'flexibility'\n",
    "                    })\n",
    "            \n",
    "            # discover_category\n",
    "            if (elt == \"discover_category\"):\n",
    "                entites['entities'].append({\n",
    "                    \"start\": p['entities'][elt][0]['start'],\n",
    "                    \"end\": p['entities'][elt][0]['end'],\n",
    "                    \"value\": str(p['entities'][elt][0][\"value\"][\"value\"]),\n",
    "                    \"entity\": 'discover_category'\n",
    "                    })\n",
    "            \n",
    "            # one_way\n",
    "            if (elt == \"search_type\") and (p['entities'][elt][0][\"value\"][\"value\"] == 'one_way'):\n",
    "                entites['entities'].append({\n",
    "                    \"start\": p['entities'][elt][0]['start'],\n",
    "                    \"end\": p['entities'][elt][0]['end'],\n",
    "                    \"value\": p['_text'][p['entities'][elt][0]['start']:p['entities'][elt][0]['end']],\n",
    "                    \"entity\": 'one_way'\n",
    "                    })\n",
    "            \n",
    "            # round_trip\n",
    "            if (elt == \"search_type\") and (p['entities'][elt][0][\"value\"][\"value\"] == 'round_trip'):\n",
    "                entites['entities'].append({\n",
    "                    \"start\": p['entities'][elt][0]['start'],\n",
    "                    \"end\": p['entities'][elt][0]['end'],\n",
    "                    \"value\": p['_text'][p['entities'][elt][0]['start']:p['entities'][elt][0]['end']],\n",
    "                    \"entity\": 'round_trip'\n",
    "                    })\n",
    "            \n",
    "\n",
    "    transformed['common_examples'].append({\n",
    "        'text': p['_text'],\n",
    "        'intent': 'flight_search',\n",
    "        'entities': entites['entities']\n",
    "        })\n",
    "trans = {'rasa_nlu_data':transformed}\n",
    "#trans['rasa_nlu_data']['common_examples'] = transformed\n",
    "\n",
    "\n",
    "i = 0\n",
    "for e in transformed['common_examples']:\n",
    "    print(e)\n",
    "    i += 1\n",
    "    if i >= 1:\n",
    "        break\n",
    "\n",
    "with open('./data.json', 'w', encoding = 'utf-8') as outfile:  \n",
    "    json.dump(trans, outfile, indent = 2, ensure_ascii=False)"
   ]
  },
  {
   "cell_type": "code",
   "execution_count": 53,
   "metadata": {},
   "outputs": [
    {
     "name": "stdout",
     "output_type": "stream",
     "text": [
      "1601\n",
      "2170\n"
     ]
    }
   ],
   "source": [
    "with open('./data.json', encoding = 'utf-8') as json_file:  \n",
    "    data = json.load(json_file)\n",
    "\n",
    "datas = data['rasa_nlu_data']['common_examples']\n",
    "examples = []\n",
    "j = 0\n",
    "i = 0\n",
    "for p in datas:\n",
    "    if (p['entities'] == []):\n",
    "        j += 1\n",
    "    else:\n",
    "        examples.append(p)\n",
    "        i += 1\n",
    "print(j)\n",
    "print(i)\n",
    "transformed = {'common_examples':examples}\n",
    "final_longs = {'rasa_nlu_data':transformed}\n",
    "\n",
    "with open('./long_texts_transformed.json', 'w', encoding = 'utf-8') as outfile:  \n",
    "    json.dump(final_longs, outfile, indent = 2, ensure_ascii=False)\n",
    "        \n"
   ]
  },
  {
   "cell_type": "code",
   "execution_count": null,
   "metadata": {},
   "outputs": [],
   "source": []
  },
  {
   "cell_type": "code",
   "execution_count": 46,
   "metadata": {},
   "outputs": [
    {
     "data": {
      "text/plain": [
       "True"
      ]
     },
     "execution_count": 46,
     "metadata": {},
     "output_type": "execute_result"
    }
   ],
   "source": [
    "'start' in data[0]['entities']['origin'][0]"
   ]
  },
  {
   "cell_type": "code",
   "execution_count": 67,
   "metadata": {},
   "outputs": [
    {
     "data": {
      "text/plain": [
       "11.313708498984761"
      ]
     },
     "execution_count": 67,
     "metadata": {},
     "output_type": "execute_result"
    }
   ],
   "source": []
  },
  {
   "cell_type": "code",
   "execution_count": null,
   "metadata": {},
   "outputs": [],
   "source": []
  }
 ],
 "metadata": {
  "kernelspec": {
   "display_name": "Python 3",
   "language": "python",
   "name": "python3"
  },
  "language_info": {
   "codemirror_mode": {
    "name": "ipython",
    "version": 3
   },
   "file_extension": ".py",
   "mimetype": "text/x-python",
   "name": "python",
   "nbconvert_exporter": "python",
   "pygments_lexer": "ipython3",
   "version": "3.7.1"
  }
 },
 "nbformat": 4,
 "nbformat_minor": 2
}
